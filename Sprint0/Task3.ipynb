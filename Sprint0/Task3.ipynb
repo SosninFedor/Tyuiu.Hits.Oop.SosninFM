{
 "cells": [
  {
   "cell_type": "markdown",
   "metadata": {},
   "source": [
    "<h1 style=\"color:DodgerBlue\">Индивидальный проект</h1>"
   ]
  },
  {
   "cell_type": "markdown",
   "metadata": {},
   "source": [
    "<h2 style=\"color:DodgerBlue\">Название проекта:</h2>\n",
    "\n",
    "----\n",
    "\n",
    "### Вариант задания № 23\n"
   ]
  },
  {
   "cell_type": "markdown",
   "metadata": {},
   "source": [
    "<h2 style=\"color:DodgerBlue\">Описание проекта:</h2>\n",
    "\n",
    "----\n",
    "\n",
    "[Создать базовый класс Event в C#, который будет представлять организованные \n",
    "мероприятия. На основе этого класса разработать 2-3 производных класса, \n",
    "демонстрирующих принципы наследования и полиморфизма. В каждом из классов \n",
    "должны быть реализованы новые атрибуты и методы, а также переопределены \n",
    "некоторые методы базового класса для демонстрации полиморфизма. \n",
    "Требования к базовому классу Event: \n",
    "• Атрибуты: ID мероприятия (EventId), Название мероприятия (EventName), \n",
    "Дата проведения (Date). \n",
    "• Методы: \n",
    "o RegisterParticipant(): метод для регистрации участника. \n",
    "o NotifyParticipants(): метод для уведомления участников о мероприятии. \n",
    "o GetEventDetails(): метод для получения деталей мероприятия. \n",
    "Требования к производным классам: \n",
    "как \n",
    "1. Конференция (Conference): Должна содержать дополнительные атрибуты, \n",
    "такие \n",
    "Количество \n",
    "спикеров \n",
    "(SpeakersCount). \n",
    "Метод NotifyParticipants() должен быть переопределен для отправки \n",
    "уведомлений с программой конференции. \n",
    "2. Фестиваль (Festival): Должна содержать дополнительные атрибуты, такие как \n",
    "Количество \n",
    "музыкальных \n",
    "групп \n",
    "(BandsCount). \n",
    "Метод RegisterParticipant() должен быть переопределен для регистрации \n",
    "участников с выбором интересующих музыкальных жанров. \n",
    "3. Семинар (Seminar) (если требуется третий класс): Должна содержать \n",
    "дополнительные атрибуты, такие как Тематические области (Topics). \n",
    "Метод GetEventDetails() должен быть переопределен для отображения \n",
    "тематических областей семинара вместе с другими деталями мероприятия.]\n"
   ]
  },
  {
   "cell_type": "code",
   "execution_count": null,
   "metadata": {
    "language_info": {
     "name": "polyglot-notebook"
    },
    "polyglot_notebook": {
     "kernelName": "csharp"
    }
   },
   "outputs": [],
   "source": [
    "public class Task\n",
    "{\n",
    "    public int TaskId;\n",
    "    public string TaskName;\n",
    "    public Priority Priority;\n",
    "    \n",
    "\n",
    "    public Task(int id, string name, Priority priority)\n",
    "    {\n",
    "        TaskId = id;\n",
    "        TaskName = name;\n",
    "        Priority = priority;\n",
    "    }\n",
    "\n",
    "    public virtual void MarkAsComplete()\n",
    "    {\n",
    "        Console.WriteLine($\"Задача {TaskId} '{TaskName}' отмечена как выполненная.\");\n",
    "    }\n",
    "\n",
    "    public virtual string GetTaskDetails()\n",
    "    {\n",
    "        return $\"Детали: Задача {TaskId} '{TaskName}'. Приоритет: {Priority}.\";\n",
    "    }\n",
    "    \n",
    "    public virtual void ReassignTo(string newAssignee)\n",
    "    {\n",
    "        Console.WriteLine($\"Задача {TaskId} '{TaskName}' была переназначена пользователю {newAssignee}.\");\n",
    "    }\n",
    "\n",
    "}\n",
    "\n",
    "public enum Priority\n",
    "{\n",
    "    Низкий,\n",
    "    Средний,\n",
    "    Высокий\n",
    "}\n",
    "\n",
    "public class DelegateTask : Task\n",
    "{\n",
    "    public DateTime DueDate;\n",
    "    public DelegateTask(int taskId, string taskName, Priority priority, DateTime DueDate)\n",
    "    : base(taskId, taskName, priority)\n",
    "    {\n",
    "        this.DueDate = DueDate;\n",
    "    }\n",
    "\n",
    "    public override void MarkAsComplete()\n",
    "    {\n",
    "        Console.WriteLine($\"Задача {TaskId} '{TaskName}' отмечена как выполненная {DueDate}.\");\n",
    "    }\n",
    "}\n",
    "\n",
    "public class TeamTask : Task\n",
    "{\n",
    "    public string TeamName;\n",
    "    public TeamTask(int id, string taskName, Priority priority, string teamName)\n",
    "        : base(id, taskName, priority)\n",
    "    {\n",
    "        TeamName = teamName;\n",
    "    }\n",
    "\n",
    "\n",
    "    public override void ReassignTo(string newAssignee)\n",
    "    {\n",
    "        Console.WriteLine($\"Задача {TaskId} '{TaskName}' Была переназначена новому члену команды {TeamName} - {newAssignee}.\");\n",
    "    }\n",
    "}\n",
    "\n",
    "public class ResearchTask : Task\n",
    "{\n",
    "    public string DataSource;\n",
    "    public ResearchTask(int id, string taskName, Priority priority, string dataSource)\n",
    "        : base(id, taskName, priority)\n",
    "        {\n",
    "            DataSource = dataSource;\n",
    "        }\n",
    "\n",
    "    public override string GetTaskDetails()\n",
    "    {\n",
    "        return $\"Детали: Задача {TaskId} '{TaskName}'. Приоритет: {Priority}. Исходные данные: {DataSource}.\";\n",
    "    }\n",
    "}\n",
    "\n",
    "Task task = new Task(1535, \"Купить Кока-Колу\", Priority.Низкий);\n",
    "\n",
    "Console.WriteLine(task.GetTaskDetails());\n",
    "task.ReassignTo(\"Петя\");\n",
    "task.MarkAsComplete();\n",
    "Console.WriteLine();\n",
    "\n",
    "DelegateTask delegateTask = new DelegateTask(1536, \"Выпить Кока-Колу\", Priority.Средний, DateTime.Parse(\"09.13.2024\"));\n",
    "Console.WriteLine(delegateTask.GetTaskDetails());\n",
    "delegateTask.ReassignTo(\"Данил\");\n",
    "delegateTask.MarkAsComplete();\n",
    "Console.WriteLine();\n",
    "\n",
    "TeamTask teamTask = new TeamTask(1537, \"Выкинуть банку в мусор\", Priority.Средний, \"NAVI\");\n",
    "Console.WriteLine(teamTask.GetTaskDetails());\n",
    "teamTask.ReassignTo(\"Саша\");\n",
    "teamTask.MarkAsComplete();\n",
    "Console.WriteLine();\n",
    "\n",
    "ResearchTask researchTask = new ResearchTask(1538, \"Купить новый напиток\", Priority.Высокий, \"Кока-Кола не очень вкусная\");\n",
    "Console.WriteLine(researchTask.GetTaskDetails());\n",
    "researchTask.ReassignTo(\"Женя\");\n",
    "researchTask.MarkAsComplete();\n",
    "Console.WriteLine();"
   ]
  },
  {
   "cell_type": "markdown",
   "metadata": {},
   "source": [
    "<h2 style=\"color:DodgerBlue\">Реализация:</h2>\n",
    "\n",
    "----"
   ]
  },
  {
   "cell_type": "code",
   "execution_count": null,
   "metadata": {
    "dotnet_interactive": {
     "language": "csharp"
    },
    "polyglot_notebook": {
     "kernelName": "csharp"
    }
   },
   "outputs": [],
   "source": []
  }
 ],
 "metadata": {
  "kernelspec": {
   "display_name": ".NET (C#)",
   "language": "C#",
   "name": ".net-csharp"
  },
  "polyglot_notebook": {
   "kernelInfo": {
    "defaultKernelName": "csharp",
    "items": [
     {
      "aliases": [],
      "languageName": "csharp",
      "name": "csharp"
     }
    ]
   }
  }
 },
 "nbformat": 4,
 "nbformat_minor": 2
}
